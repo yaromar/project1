{
 "cells": [
  {
   "cell_type": "code",
   "execution_count": 13,
   "metadata": {},
   "outputs": [],
   "source": [
    "#Get a list of PDB that contains histones from 'text.csv'\n",
    "#cut -f1 text.tsv | uniq | awk '{print tolower($0)}' "
   ]
  },
  {
   "cell_type": "code",
   "execution_count": 14,
   "metadata": {},
   "outputs": [],
   "source": [
    "#!/usr/bin/env python 3\n",
    "import re\n",
    "\n",
    "PATH = \"/net/pan1/interactomes/pipeline/Interactome/Workflow/Interfaces/\"\n",
    "CHAIN_FILE = \"text.tsv\"\n",
    "PDB_LIST = \"pdbList.txt\""
   ]
  },
  {
   "cell_type": "code",
   "execution_count": 23,
   "metadata": {
    "slideshow": {
     "slide_type": "-"
    }
   },
   "outputs": [],
   "source": [
    "def get_chain_dictionaries(cFile, dictionary):  \n",
    "    with open(cFile, 'r') as cfh:\n",
    "        cfh.readline() #skips header\n",
    "        \n",
    "        for cLine in cfh:\n",
    "            fields = cLine.strip().split('\\t')\n",
    "        \n",
    "            folder = pdb[1] + pdb[2] #folder name in \". . . Interfaces/\"        \n",
    "            \n",
    "            tempDict = {}\n",
    "            with open(PATH + folder + '/' + pdb + '_chain_protein_mapping.tab') as mfh:\n",
    "                mfh.readline()\n",
    "                \n",
    "                for mLine in mfh:\n",
    "                    chainPair = mLine.split('\\t', 2)\n",
    "                    alexChain = chainPair[0]\n",
    "                    myChain = chainPair[1]\n",
    "                    \n",
    "                    tempDict[alexChain] = chainPair\n",
    "                \n",
    "            dictionary[pdb] = {}\n",
    "            pdbTemp = pdb\n",
    "                \n",
    "            while(pdbTemp == pdb):\n",
    "                while(len(fields) < 3):\n",
    "                    cLine = cfh.readline()\n",
    "                    \n",
    "                chain = fields[1]\n",
    "                uniprot = fields[2]\n",
    "                name = fields[3]\n",
    "                    \n",
    "                if(not(uniprot == '' and name == '')): #prevents from wasting time on nucleotide chains\n",
    "                    dictionary[pdb][alexChain] = str(tempDict[alexChain]) + '#' + uniprot + '#' + name\n",
    "                \n",
    "                cLine = cfh.readline()\n",
    "                fields = cLine.strip().split('\\t')\n",
    "                pdbTemp = fields[0]"
   ]
  },
  {
   "cell_type": "code",
   "execution_count": 24,
   "metadata": {},
   "outputs": [],
   "source": [
    "def get_files(pdbList, mFiles, iFiles):\n",
    "    with open(pdbList, 'r') as pfh:\n",
    "        pfh.readline()\n",
    "        \n",
    "        for line in pfh:\n",
    "            line = line.strip()\n",
    "            folder = line[1] + line[2] #folder name in \". . . Interfaces/\"\n",
    "            mFiles.append(PATH + folder + '/' + line + '_chain_protein_mapping.tab')\n",
    "            iFiles.append(PATH + folder + '/' + line + '_atomic_contacts_5.0A.tab')"
   ]
  },
  {
   "cell_type": "code",
   "execution_count": 25,
   "metadata": {},
   "outputs": [],
   "source": [
    "def main():\n",
    "    \n",
    "    mappingFiles = []\n",
    "    interfaceFiles = []\n",
    "    \n",
    "    get_files(PDB_LIST, mappingFiles, interfaceFiles)\n",
    "    \n",
    "    \n",
    "    chainDictionary = {}\n",
    "    chainDictionary['pdb'] = {}\n",
    "    \n",
    "    get_chain_dictionaries(CHAIN_FILE, chainDictionary)"
   ]
  },
  {
   "cell_type": "code",
   "execution_count": 26,
   "metadata": {},
   "outputs": [
    {
     "name": "stdout",
     "output_type": "stream",
     "text": [
      "1aoi\tC\tP06897\tHistone H2A type 1\n",
      " ['1aoi', 'C', 'P06897', 'Histone H2A type 1']\n",
      "1aoi\tD\tP02281\tHistone H2B 1.1\n",
      " ['1aoi', 'D', 'P02281', 'Histone H2B 1.1']\n",
      "1aoi\tH\tP02281\tHistone H2B 1.1\n",
      " ['1aoi', 'H', 'P02281', 'Histone H2B 1.1']\n",
      "1aoi\tA\tP02302\tHistone H3.3C\n",
      " ['1aoi', 'A', 'P02302', 'Histone H3.3C']\n",
      "1aoi\tE\tP02302\tHistone H3.3C\n",
      " ['1aoi', 'E', 'P02302', 'Histone H3.3C']\n",
      "1aoi\tB\tP62799\tHistone H4\n",
      " ['1aoi', 'B', 'P62799', 'Histone H4']\n",
      "1aoi\tF\tP62799\tHistone H4\n",
      " ['1aoi', 'F', 'P62799', 'Histone H4']\n",
      "1aoi\tI\t\t\n",
      " ['1aoi', 'I']\n"
     ]
    },
    {
     "ename": "IndexError",
     "evalue": "list index out of range",
     "output_type": "error",
     "traceback": [
      "\u001b[0;31m---------------------------------------------------------------------------\u001b[0m",
      "\u001b[0;31mIndexError\u001b[0m                                Traceback (most recent call last)",
      "\u001b[0;32m<ipython-input-26-972361fa1b80>\u001b[0m in \u001b[0;36m<module>\u001b[0;34m()\u001b[0m\n\u001b[1;32m      1\u001b[0m \u001b[0;32mif\u001b[0m \u001b[0m__name__\u001b[0m \u001b[0;34m==\u001b[0m \u001b[0;34m\"__main__\"\u001b[0m\u001b[0;34m:\u001b[0m\u001b[0;34m\u001b[0m\u001b[0m\n\u001b[0;32m----> 2\u001b[0;31m     \u001b[0mmain\u001b[0m\u001b[0;34m(\u001b[0m\u001b[0;34m)\u001b[0m\u001b[0;34m\u001b[0m\u001b[0m\n\u001b[0m",
      "\u001b[0;32m<ipython-input-25-5f22daccb7aa>\u001b[0m in \u001b[0;36mmain\u001b[0;34m()\u001b[0m\n\u001b[1;32m     10\u001b[0m     \u001b[0mchainDictionary\u001b[0m\u001b[0;34m[\u001b[0m\u001b[0;34m'pdb'\u001b[0m\u001b[0;34m]\u001b[0m \u001b[0;34m=\u001b[0m \u001b[0;34m{\u001b[0m\u001b[0;34m}\u001b[0m\u001b[0;34m\u001b[0m\u001b[0m\n\u001b[1;32m     11\u001b[0m \u001b[0;34m\u001b[0m\u001b[0m\n\u001b[0;32m---> 12\u001b[0;31m     \u001b[0mget_chain_dictionaries\u001b[0m\u001b[0;34m(\u001b[0m\u001b[0mCHAIN_FILE\u001b[0m\u001b[0;34m,\u001b[0m \u001b[0mchainDictionary\u001b[0m\u001b[0;34m)\u001b[0m\u001b[0;34m\u001b[0m\u001b[0m\n\u001b[0m",
      "\u001b[0;32m<ipython-input-23-71e03bd14c16>\u001b[0m in \u001b[0;36mget_chain_dictionaries\u001b[0;34m(cFile, dictionary)\u001b[0m\n\u001b[1;32m     25\u001b[0m             \u001b[0;32mwhile\u001b[0m\u001b[0;34m(\u001b[0m\u001b[0mpdbTemp\u001b[0m \u001b[0;34m==\u001b[0m \u001b[0mpdb\u001b[0m\u001b[0;34m)\u001b[0m\u001b[0;34m:\u001b[0m\u001b[0;34m\u001b[0m\u001b[0m\n\u001b[1;32m     26\u001b[0m                 \u001b[0mchain\u001b[0m \u001b[0;34m=\u001b[0m \u001b[0mfields\u001b[0m\u001b[0;34m[\u001b[0m\u001b[0;36m1\u001b[0m\u001b[0;34m]\u001b[0m\u001b[0;34m\u001b[0m\u001b[0m\n\u001b[0;32m---> 27\u001b[0;31m                 \u001b[0muniprot\u001b[0m \u001b[0;34m=\u001b[0m \u001b[0mfields\u001b[0m\u001b[0;34m[\u001b[0m\u001b[0;36m2\u001b[0m\u001b[0;34m]\u001b[0m\u001b[0;34m\u001b[0m\u001b[0m\n\u001b[0m\u001b[1;32m     28\u001b[0m                 \u001b[0mname\u001b[0m \u001b[0;34m=\u001b[0m \u001b[0mfields\u001b[0m\u001b[0;34m[\u001b[0m\u001b[0;36m3\u001b[0m\u001b[0;34m]\u001b[0m\u001b[0;34m\u001b[0m\u001b[0m\n\u001b[1;32m     29\u001b[0m \u001b[0;34m\u001b[0m\u001b[0m\n",
      "\u001b[0;31mIndexError\u001b[0m: list index out of range"
     ]
    }
   ],
   "source": [
    "if __name__ == \"__main__\":\n",
    "    main()"
   ]
  },
  {
   "cell_type": "code",
   "execution_count": null,
   "metadata": {},
   "outputs": [],
   "source": []
  },
  {
   "cell_type": "code",
   "execution_count": null,
   "metadata": {},
   "outputs": [],
   "source": []
  }
 ],
 "metadata": {
  "kernelspec": {
   "display_name": "Python 3",
   "language": "python",
   "name": "python3"
  },
  "language_info": {
   "codemirror_mode": {
    "name": "ipython",
    "version": 3
   },
   "file_extension": ".py",
   "mimetype": "text/x-python",
   "name": "python",
   "nbconvert_exporter": "python",
   "pygments_lexer": "ipython3",
   "version": "3.6.5"
  }
 },
 "nbformat": 4,
 "nbformat_minor": 2
}
