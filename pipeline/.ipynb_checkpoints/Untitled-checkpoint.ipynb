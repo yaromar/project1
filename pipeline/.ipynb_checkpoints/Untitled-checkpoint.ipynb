{
 "cells": [
  {
   "cell_type": "code",
   "execution_count": null,
   "metadata": {},
   "outputs": [],
   "source": [
    "#NOTES:\n",
    "#To get a list of PDB that contains histones from 'text.csv':\n",
    "#cut -f1 text.tsv | uniq | awk '{print tolower($0)}' | sort\n",
    "\n",
    "#text.tsv should be sorted by pdb and then uniprot name\n",
    "#it MUST have 'NA' in uniprot and name blanks"
   ]
  },
  {
   "cell_type": "code",
   "execution_count": null,
   "metadata": {},
   "outputs": [],
   "source": [
    "#!/usr/bin/env python 3\n",
    "import re\n",
    "\n",
    "#PATH = \"/net/pan1/interactomes/pipeline/Interactome/Workflow/Interfaces/\"\n",
    "PATH = \"../data/Interfaces/\"\n",
    "CHAIN_FILE = \"text.tsv\"\n",
    "PDB_LIST = \"pdbList.txt\""
   ]
  },
  {
   "cell_type": "code",
   "execution_count": 23,
   "metadata": {},
   "outputs": [],
   "source": [
    "#PARAMETERS:\n",
    "#fils is a string with path to the file to be checked\n",
    "\n",
    "#RESULTS:\n",
    "#Returns 1 or 0 depending on file existence \n",
    "\n",
    "\n",
    "def file_check(file):\n",
    "    \n",
    "    try:\n",
    "        open(file, \"r\")\n",
    "        return 1\n",
    "    \n",
    "    except IOError:\n",
    "        print(\"Error: \" + file + \" does not appear to exist.\")\n",
    "        return 0"
   ]
  },
  {
   "cell_type": "code",
   "execution_count": 24,
   "metadata": {},
   "outputs": [],
   "source": [
    "#PARAMETERS: \n",
    "#pdbList is a text file with a header and one column PDB\n",
    "#files is a list\n",
    "#parameter is a string, either 'mapping' or 'interface' depending on desired results\n",
    "\n",
    "#RESULTS:\n",
    "#A list of absolute paths to either mapping files or interface files as it is stored on local NCBI machines\n",
    "\n",
    "\n",
    "def get_files(pdbList, files, parameter):\n",
    "    \n",
    "    with open(pdbList, 'r') as pfh:\n",
    "        pfh.readline()\n",
    "        \n",
    "        if(parameter == 'mapping'):\n",
    "            \n",
    "            for line in pfh:\n",
    "                line = line.strip()\n",
    "                folder = line[1] + line[2] \n",
    "                files.append(PATH + folder + '/' + line + '_chain_protein_mapping.tab')\n",
    "                \n",
    "        elif(parameter == 'interface'): \n",
    "            \n",
    "            for line in pfh:\n",
    "                line = line.strip()\n",
    "                folder = line[1] + line[2]\n",
    "                files.append(PATH + folder + '/' + line + '_atomic_contacts_5.0A.tab')"
   ]
  },
  {
   "cell_type": "code",
   "execution_count": 25,
   "metadata": {
    "slideshow": {
     "slide_type": "-"
    }
   },
   "outputs": [],
   "source": [
    "#PARAMETERS:\n",
    "#cFile is tab-separated file with a header and 4 columns: pdb, chain, uniprot, name\n",
    "#dictionary is nested with the innermost dict being dictionary['pdb'] = {}\n",
    "\n",
    "#RESULTS:\n",
    "#The format of the end-product dictionary is: {pdb : {AlexChain: myChain#UNIPROT#name}}\n",
    "#Example: {1alq : {'G': 'E#P02302#Histone H3.3C'}}\n",
    "\n",
    "\n",
    "def get_chain_dictionaries(cFile, dictionary):  \n",
    "    with open(cFile, 'r') as cfh:\n",
    "        cfh.readline() #skips header\n",
    "        \n",
    "        for cLine in cfh:\n",
    "            fields = cLine.strip().split('\\t')\n",
    "            pdb = fields[0]\n",
    "            folder = pdb[1] + pdb[2] #folder name in \". . . Interfaces/\"        \n",
    "            \n",
    "            tempDict = {}\n",
    "            \n",
    "            mappingFile = PATH + folder + '/' + pdb + '_chain_protein_mapping.tab'\n",
    "            \n",
    "            try: #adds a pdb entry to the dict only if mapping file exists\n",
    "                \n",
    "                with open(mappingFile, 'r') as mfh:\n",
    "                    mfh.readline() #skips header\n",
    "                    \n",
    "                    for mLine in mfh:\n",
    "                        chainPair = mLine.split('\\t', 2)\n",
    "                        alexChain = chainPair[0]\n",
    "                        myChain = chainPair[1]\n",
    "\n",
    "                        tempDict[alexChain] = myChain\n",
    "                \n",
    "                dictionary[pdb] = {}\n",
    "                pdbTemp = pdb\n",
    "                histoneCount = 0 #is used to count number of histones in a structure\n",
    "                \n",
    "                while(pdbTemp == pdb): #parses lines that have the same pdb (must be sorted)\n",
    "                    chain = fields[1]\n",
    "                    uniprot = fields[2]\n",
    "                    name = fields[3]\n",
    "\n",
    "                    if(not(uniprot == 'NA' and name == 'NA')): #prevents from wasting time on nucleotide chains\n",
    "                        histoneMatch = re.findall(r'histone h2a.z-specific chaperone chz1|histone h|histone-like|histone macro|histone.*peptide|like histone|h\\d.*peptide|h3K4me0|$h\\d^|archael histone|peptide.*histone', name, re.I)\n",
    "                        histoneCount += len(histoneMatch) #adds the number of histones in chain\n",
    "                        \n",
    "                        try: #adds a chain entry to the dict only if there exists a corresponding chain in the mapping file\n",
    "                            alexChain = list(tempDict.keys())[list(tempDict.values()).index(chain)]\n",
    "                            dictionary[pdb][alexChain] = str(tempDict[alexChain]) + '#' + uniprot + '#' + name\n",
    "\n",
    "                        except ValueError:\n",
    "                            pass\n",
    "                            #print(\"Error: \" + ValueError + \", in \" + pdb)\n",
    "                            \n",
    "                    cLine = cfh.readline()\n",
    "                    \n",
    "                    fields = cLine.strip().split('\\t')\n",
    "                    pdbTemp = fields[0]\n",
    "                    \n",
    "            except IOError:    \n",
    "                #print(\"Error: \" + mappingFile + \" does not appear to exist.\")\n",
    "\n",
    "                pdbTemp = pdb\n",
    "                \n",
    "                while(pdbTemp == pdb): #skips lines with pdb that doesn't have a corresponding mapping file\n",
    "                    cLine = cfh.readline()\n",
    "                    fields = cLine.strip().split('\\t', 1)\n",
    "                    pdbTemp = fields[0]"
   ]
  },
  {
   "cell_type": "code",
   "execution_count": 26,
   "metadata": {},
   "outputs": [],
   "source": [
    "def main():\n",
    "\n",
    "    chainDictionary = {}\n",
    "    chainDictionary['pdb'] = {}\n",
    "    \n",
    "    get_chain_dictionaries(CHAIN_FILE, chainDictionary)\n",
    "    \n",
    "    \n",
    "    interfaceFiles = []\n",
    "    get_files(PDB_LIST, interfaceFiles, 'interface')"
   ]
  },
  {
   "cell_type": "code",
   "execution_count": 27,
   "metadata": {},
   "outputs": [
    {
     "name": "stdout",
     "output_type": "stream",
     "text": [
      "{'pdb': {}}\n"
     ]
    }
   ],
   "source": [
    "if __name__ == \"__main__\":\n",
    "    main()"
   ]
  },
  {
   "cell_type": "code",
   "execution_count": null,
   "metadata": {},
   "outputs": [],
   "source": []
  },
  {
   "cell_type": "code",
   "execution_count": null,
   "metadata": {},
   "outputs": [],
   "source": []
  },
  {
   "cell_type": "code",
   "execution_count": null,
   "metadata": {},
   "outputs": [],
   "source": []
  },
  {
   "cell_type": "code",
   "execution_count": null,
   "metadata": {},
   "outputs": [],
   "source": []
  }
 ],
 "metadata": {
  "kernelspec": {
   "display_name": "Python 3",
   "language": "python",
   "name": "python3"
  },
  "language_info": {
   "codemirror_mode": {
    "name": "ipython",
    "version": 3
   },
   "file_extension": ".py",
   "mimetype": "text/x-python",
   "name": "python",
   "nbconvert_exporter": "python",
   "pygments_lexer": "ipython3",
   "version": "3.6.5"
  }
 },
 "nbformat": 4,
 "nbformat_minor": 2
}
