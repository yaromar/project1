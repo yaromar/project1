{
 "cells": [
  {
   "cell_type": "code",
   "execution_count": 1,
   "metadata": {},
   "outputs": [],
   "source": [
    "import requests"
   ]
  },
  {
   "cell_type": "code",
   "execution_count": 2,
   "metadata": {},
   "outputs": [],
   "source": [
    "def main():\n",
    "    url = \"http://www.rcsb.org/pdb/rest/search\"\n",
    "    pdb_set = set()\n",
    "    \n",
    "    with open(\"combined/uniprots.txt\", \"r\") as fh:\n",
    "        for line in fh:\n",
    "            uniprot = line.strip()\n",
    "            query_text = \"\"\"\n",
    "<?xml version=\"1.0\" encoding=\"UTF-8\"?>\n",
    "\n",
    "<orgPdbQuery>\n",
    "\n",
    "<queryType>org.pdb.query.simple.UpAccessionIdQuery</queryType>\n",
    "\n",
    "<description>Simple query for a list of Uniprot Accession IDs:</description>\n",
    "\n",
    "<accessionIdList>\"\"\" + uniprot + \"\"\"</accessionIdList>\n",
    "\n",
    "</orgPdbQuery>\"\"\"\n",
    "            header = {\"Content-Type\": \"application/x-www-form-urlencoded\"}\n",
    "\n",
    "            response = requests.post(url, data=query_text, headers=header)\n",
    "\n",
    "            if response.status_code == 200:\n",
    "                result = response.text.split('\\n')\n",
    "                \n",
    "                #print(\"For %s found %d PDB entries matching query.\" % (uniprot, len(result) - 1))\n",
    "                #print(response.text)\n",
    "                for element in result:\n",
    "                    if(element != \"\"):\n",
    "                        pdb_set.add(element.split(':', 1)[0])\n",
    "                    \n",
    "                    \n",
    "            else:\n",
    "                print(\"failed to retrieve results for %s\" % uniprot)\n",
    "                \n",
    "    with open(\"combined/comboChains.txt\", \"w\") as fh:                \n",
    "        for pdb in pdb_set:\n",
    "            query_text = \"?pdbids=\" + pdb + \"&customReportColumns=compound,source,uniprotAcc,uniprotRecommendedName&service=wsdisplay&format=csv&ssa=null\"\n",
    "            urlCustom = \"http://www.rcsb.org/pdb/rest/customReport\"\n",
    "\n",
    "            response = requests.post(urlCustom, data=query_text, headers=header)\n",
    "\n",
    "            if(response.status_code == 200):\n",
    "                    chains = response.text.split('<br />')\n",
    "                    iterchains = iter(chains)\n",
    "                    next(iterchains)\n",
    "\n",
    "                    for chain in iterchains:\n",
    "                        fh.write(chain + '\\n')\n",
    "                        \n",
    "            else:\n",
    "                print(\"failed to generate report for %s\", pdb)"
   ]
  },
  {
   "cell_type": "code",
   "execution_count": 3,
   "metadata": {},
   "outputs": [],
   "source": [
    "if __name__ == '__main__':\n",
    "    main()"
   ]
  },
  {
   "cell_type": "code",
   "execution_count": null,
   "metadata": {},
   "outputs": [],
   "source": []
  },
  {
   "cell_type": "code",
   "execution_count": null,
   "metadata": {},
   "outputs": [],
   "source": []
  },
  {
   "cell_type": "code",
   "execution_count": null,
   "metadata": {},
   "outputs": [],
   "source": []
  }
 ],
 "metadata": {
  "kernelspec": {
   "display_name": "Python 3",
   "language": "python",
   "name": "python3"
  },
  "language_info": {
   "codemirror_mode": {
    "name": "ipython",
    "version": 3
   },
   "file_extension": ".py",
   "mimetype": "text/x-python",
   "name": "python",
   "nbconvert_exporter": "python",
   "pygments_lexer": "ipython3",
   "version": "3.6.5"
  }
 },
 "nbformat": 4,
 "nbformat_minor": 2
}
