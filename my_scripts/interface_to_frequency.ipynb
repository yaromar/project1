{
 "cells": [
  {
   "cell_type": "code",
   "execution_count": null,
   "metadata": {},
   "outputs": [],
   "source": [
    "def map_chains(mappingFile, chainMap):\n",
    "\twith open(mappingFile, 'r') as mf:\n",
    "\t\tfor line in mf:\n",
    "\t\t\tchainMap[line.split()[0]] = line.split()[1]"
   ]
  },
  {
   "cell_type": "code",
   "execution_count": 52,
   "metadata": {},
   "outputs": [],
   "source": [
    "def get_chain_lists(labeledChainsFile, pdbList, histoneList, partnerList):\n",
    "\t\twith open(labeledChainsFile, 'r') as lf:\n",
    "\t\t\tfor pdbID in pdbList:\n",
    "\t\t\t\tfor line in lf:\n",
    "\t\t\t\t\tif(line.startswith(pdbID)):\n",
    "\t\t\t\t\t\thistoneList[:] = line.split('\\t')[1].split(',')\n",
    "\t\t\t\t\t\tpartnerList[:] = line.split('\\t')[2].split(',')\n",
    "\t\t\t\t\t\tlf.seek(0)\n",
    "\t\t\t\t\t\tbreak"
   ]
  },
  {
   "cell_type": "code",
   "execution_count": 56,
   "metadata": {},
   "outputs": [],
   "source": [
    "def map_split_chains(labeledChainsFile, mappingFile, pdbList, histoneDict, partnerDict):\n",
    "    histoneList = []\n",
    "    partnerList = []\n",
    "    get_chain_lists(labeledChainsFile, pdbList, histoneList, partnerList)\n",
    "    \n",
    "    with open(mappingFile, 'r') as mf:\n",
    "        for line in mf:\n",
    "            if(line.split()[1] in histoneList):\n",
    "                histoneDict[line.split()[0]] = line.split()[1]\n",
    "            elif(line.split()[1] in partnerList):\n",
    "                partnerDict[line.split()[0]] = line.split()[1]"
   ]
  },
  {
   "cell_type": "code",
   "execution_count": null,
   "metadata": {},
   "outputs": [],
   "source": []
  },
  {
   "cell_type": "code",
   "execution_count": 57,
   "metadata": {
    "scrolled": true
   },
   "outputs": [],
   "source": [
    "def main():\n",
    "    mappingFile = \"../data/Interfaces/4zux_chain_protein_mapping.tab\"\n",
    "    labeledChainsFile = \"../data/labeled_chains.tsv\"\n",
    "    pdbIDs = [\"4ZUX\"]\n",
    "    #For the following dicts:\n",
    "    #key = original chain from Alex files; value = PDB chain from labeled_chains.tsv\n",
    "    histones = {} \n",
    "    partners = {}\n",
    "\n",
    "    map_split_chains(labeledChainsFile, mappingFile, pdbIDs, histones, partners)\n",
    "    print(partners)"
   ]
  },
  {
   "cell_type": "code",
   "execution_count": 58,
   "metadata": {},
   "outputs": [
    {
     "name": "stdout",
     "output_type": "stream",
     "text": [
      "{'AA': 'a', 'BA': 'b', 'DA': 'd', 'CA': 'c', 'U': 'U', 'W': 'W', 'V': 'V', 'Y': 'Y', 'X': 'X', 'Z': 'Z'}\n"
     ]
    }
   ],
   "source": [
    "if __name__ == \"__main__\":\n",
    "\tmain()"
   ]
  },
  {
   "cell_type": "code",
   "execution_count": null,
   "metadata": {},
   "outputs": [],
   "source": []
  },
  {
   "cell_type": "code",
   "execution_count": null,
   "metadata": {},
   "outputs": [],
   "source": []
  }
 ],
 "metadata": {
  "kernelspec": {
   "display_name": "Python 3",
   "language": "python",
   "name": "python3"
  },
  "language_info": {
   "codemirror_mode": {
    "name": "ipython",
    "version": 3
   },
   "file_extension": ".py",
   "mimetype": "text/x-python",
   "name": "python",
   "nbconvert_exporter": "python",
   "pygments_lexer": "ipython3",
   "version": "3.6.5"
  }
 },
 "nbformat": 4,
 "nbformat_minor": 2
}
