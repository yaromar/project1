{
 "cells": [
  {
   "cell_type": "code",
   "execution_count": 1,
   "metadata": {},
   "outputs": [],
   "source": [
    "#!/usr/bin/env python 3"
   ]
  },
  {
   "cell_type": "code",
   "execution_count": 2,
   "metadata": {},
   "outputs": [],
   "source": [
    "def map_chains(mappingFile, chainMap):\n",
    "\twith open(mappingFile, 'r') as mfh:\n",
    "\t\tfor line in mfh:\n",
    "\t\t\tchainMap[line.split()[0]] = line.split()[1]"
   ]
  },
  {
   "cell_type": "code",
   "execution_count": 3,
   "metadata": {},
   "outputs": [],
   "source": [
    "def get_chain_lists(labeledChainsFile, pdbList, histoneList, partnerList):\n",
    "\t\twith open(labeledChainsFile, 'r') as lfh:\n",
    "\t\t\tfor pdbID in pdbList:\n",
    "\t\t\t\tfor line in lfh:\n",
    "\t\t\t\t\tif(line.startswith(pdbID)):\n",
    "\t\t\t\t\t\thistoneList[:] = line.split('\\t')[1].split(',')\n",
    "\t\t\t\t\t\tpartnerList[:] = line.split('\\t')[2].split(',')\n",
    "\t\t\t\t\t\tlfh.seek(0)\n",
    "\t\t\t\t\t\tbreak"
   ]
  },
  {
   "cell_type": "code",
   "execution_count": 4,
   "metadata": {},
   "outputs": [],
   "source": [
    "def map_split_chains(labeledChainsFile, mappingFile, pdbList, histoneDict, partnerDict):\n",
    "    histoneList = []\n",
    "    partnerList = []\n",
    "    get_chain_lists(labeledChainsFile, pdbList, histoneList, partnerList)\n",
    "    \n",
    "    with open(mappingFile, 'r') as mfh:\n",
    "        for line in mfh:\n",
    "            if(line.split()[1] in histoneList):\n",
    "                histoneDict[line.split()[0]] = line.split()[1]\n",
    "            elif(line.split()[1] in partnerList):\n",
    "                partnerDict[line.split()[0]] = line.split()[1]"
   ]
  },
  {
   "cell_type": "code",
   "execution_count": 5,
   "metadata": {},
   "outputs": [],
   "source": [
    "def init_pdb_freqs(pdbList):\n",
    "    pdbFreqList = []\n",
    "    for pdb in pdbList:\n",
    "        pdbFreqList.append(pdbFreq(pdb))"
   ]
  },
  {
   "cell_type": "code",
   "execution_count": null,
   "metadata": {},
   "outputs": [],
   "source": [
    "def populate_pdb_freqs(interfaceFile, pdbFreqList, histones, partners):\n",
    "    with open (interfaceFile) as ifh:\n",
    "        for line in ifh:\n",
    "            if(line)"
   ]
  },
  {
   "cell_type": "code",
   "execution_count": 6,
   "metadata": {},
   "outputs": [],
   "source": [
    "class pdbFreq:\n",
    "    def __init__(self, id_):\n",
    "        self.pdb = id_\n",
    "        self.chains = {}\n",
    "        self.chains['chain'] = {}\n",
    "        self.chains['chain']['residue'] = {}\n",
    "        \n",
    "    def addResidue(self, ch, aa):\n",
    "        if(ch in self.chains):\n",
    "            if(aa in self.chains[ch]):\n",
    "                self.chains[ch][aa] += 1\n",
    "            else:\n",
    "                self.chains[ch][aa] = 1\n",
    "        else:\n",
    "            self.chains[ch] = {aa: 1}"
   ]
  },
  {
   "cell_type": "code",
   "execution_count": 7,
   "metadata": {
    "scrolled": true
   },
   "outputs": [],
   "source": [
    "def main():\n",
    "    mappingFile = \"../data/Interfaces/4zux_chain_protein_mapping.tab\"\n",
    "    labeledChainsFile = \"../data/labeled_chains.tsv\"\n",
    "    pdbIDs = [\"4ZUX\"]\n",
    "    #For the following dicts:\n",
    "    #key = original chain from Alex files; value = PDB chain from labeled_chains.tsv\n",
    "    histones = {} \n",
    "    partners = {}\n",
    "\n",
    "    map_split_chains(labeledChainsFile, mappingFile, pdbIDs, histones, partners)\n",
    "    \n",
    "    freqTest = init_pdb_freqs(pdbIDs)\n",
    "    \n",
    "    interfaceFile = \"../data/Interfaces/4zux_atomic_contacts_5.0A.tab\""
   ]
  },
  {
   "cell_type": "code",
   "execution_count": 8,
   "metadata": {},
   "outputs": [],
   "source": [
    "if __name__ == \"__main__\":\n",
    "\tmain()"
   ]
  },
  {
   "cell_type": "code",
   "execution_count": null,
   "metadata": {},
   "outputs": [],
   "source": []
  }
 ],
 "metadata": {
  "kernelspec": {
   "display_name": "Python 2",
   "language": "python",
   "name": "python2"
  },
  "language_info": {
   "codemirror_mode": {
    "name": "ipython",
    "version": 2
   },
   "file_extension": ".py",
   "mimetype": "text/x-python",
   "name": "python",
   "nbconvert_exporter": "python",
   "pygments_lexer": "ipython2",
   "version": "2.7.14"
  }
 },
 "nbformat": 4,
 "nbformat_minor": 2
}
